{
  "nbformat": 4,
  "nbformat_minor": 0,
  "metadata": {
    "colab": {
      "provenance": [],
      "collapsed_sections": [],
      "authorship_tag": "ABX9TyOY2Dgwms29kiqK8G/MhCQp",
      "include_colab_link": true
    },
    "kernelspec": {
      "name": "python3",
      "display_name": "Python 3"
    },
    "language_info": {
      "name": "python"
    }
  },
  "cells": [
    {
      "cell_type": "markdown",
      "metadata": {
        "id": "view-in-github",
        "colab_type": "text"
      },
      "source": [
        "<a href=\"https://colab.research.google.com/github/JhonAlexG/cd_202202_Jhon_Gonzalez/blob/main/Taller_6.ipynb\" target=\"_parent\"><img src=\"https://colab.research.google.com/assets/colab-badge.svg\" alt=\"Open In Colab\"/></a>"
      ]
    },
    {
      "cell_type": "code",
      "execution_count": 1,
      "metadata": {
        "id": "p6WBDWqNkAge"
      },
      "outputs": [],
      "source": [
        "import math\n",
        "def distancia(x, y):\n",
        "  return math.sqrt(x**2+y**2)"
      ]
    },
    {
      "cell_type": "code",
      "source": [
        "cont = 0\n",
        "puntoslado = 10000\n",
        "paso = 1/(puntoslado-1)\n",
        "\n"
      ],
      "metadata": {
        "id": "ddy3Qcs2kJ7a"
      },
      "execution_count": 11,
      "outputs": []
    },
    {
      "cell_type": "code",
      "source": [
        "i = 0\n",
        "while i<=1:\n",
        "  j=0\n",
        "  while j<=1:\n",
        "    if distancia(i, j)<=1:\n",
        "      cont += 1\n",
        "    j+=paso\n",
        "  i+= paso\n",
        "\n",
        "print(\"Puntos:\", cont)\n",
        "print(\"Estimación de pi: \", (cont * 4 / (puntoslado**2)))"
      ],
      "metadata": {
        "id": "OANL6jjXskDz"
      },
      "execution_count": null,
      "outputs": []
    },
    {
      "cell_type": "code",
      "source": [
        "import random\n",
        "\n",
        "random.seed(1984)\n",
        "random.random()"
      ],
      "metadata": {
        "colab": {
          "base_uri": "https://localhost:8080/"
        },
        "id": "5w9_VNTkqPSl",
        "outputId": "66af7485-c107-4c65-85a5-b2d72c907d09"
      },
      "execution_count": 12,
      "outputs": [
        {
          "output_type": "execute_result",
          "data": {
            "text/plain": [
              "0.36352835585530807"
            ]
          },
          "metadata": {},
          "execution_count": 12
        }
      ]
    },
    {
      "cell_type": "code",
      "source": [
        "intervalo= 100000\n",
        "\n",
        "circle_points=0\n",
        "square_points=0\n",
        "\n",
        "for i in range (intervalo):\n",
        "  cor_x=random.uniform(0,1)\n",
        "  cor_y=random.uniform(0,1)\n",
        "\n",
        "  origin_dist=distancia(cor_x,cor_y)\n",
        "\n",
        "  if origin_dist <= 1:\n",
        "    circle_points += 1\n",
        "  square_points+=1\n",
        "\n",
        "\n",
        "pi = 4*circle_points/square_points\n",
        "\n",
        "print(\"Puntos:\", square_points)\n",
        "print(\"Estimacion de pi:\", pi)"
      ],
      "metadata": {
        "colab": {
          "base_uri": "https://localhost:8080/"
        },
        "id": "XP9XV9csqfCC",
        "outputId": "aed3d261-4455-4ac6-9c52-ae64e90998d5"
      },
      "execution_count": 20,
      "outputs": [
        {
          "output_type": "stream",
          "name": "stdout",
          "text": [
            "Puntos: 100000\n",
            "Estimacion de pi: 3.13872\n"
          ]
        }
      ]
    }
  ]
}